{
 "cells": [
  {
   "cell_type": "code",
   "execution_count": null,
   "id": "fdc67442",
   "metadata": {},
   "outputs": [],
   "source": [
    "# Import Libraries\n",
    "\n",
    "from bs4 import BeautifulSoup\n",
    "import requests\n",
    "import datetime\n",
    "import time\n",
    "import smtplib,ssl\n",
    "import pandas as pd\n",
    "import csv"
   ]
  },
  {
   "cell_type": "code",
   "execution_count": null,
   "id": "48261705",
   "metadata": {},
   "outputs": [],
   "source": [
    "# Product wishlist\n",
    "\n",
    "prod1 = 'https://www.flipkart.com/adata-xpg-gammix-d30-ddr4-8-gb-single-channel-pc-xpg-8gb-3200mhz-xmp-2-ready/p/itmb6445817a0c19?pid=RAMFUAHYUSBE7YFA&lid=LSTRAMFUAHYUSBE7YFAV1BXIY&marketplace=FLIPKART&fm=productRecommendation%2FcrossSelling&iid=R%3Ac%3Bp%3AIHDF8XHFE4WWZJ3S%3Bl%3ALSTIHDF8XHFE4WWZJ3SNWMIVN%3Bpt%3App%3Buid%3A6427e282-0889-11ec-b295-fdba75d7b6d6%3B.RAMFUAHYUSBE7YFA&ppt=pp&ppn=pp&ssid=ho78x2z0400000001630172680599&otracker=pp_reco_Bought%2BTogether_2_35.productCard.PMU_TAB_ADATA%2BXPG%2BGAMMIX%2BD30%2BDDR4%2B8%2BGB%2B%2528Single%2BChannel%2529%2BPC%2BDDR4%2B%2528XPG%2BGAMMIX%2BD30%2B8GB%2B3200MHZ%2BXMP%2B2%2BREADY%2529_RAMFUAHYUSBE7YFA_productRecommendation%2FcrossSelling_1&otracker1=pp_reco_PINNED_productRecommendation%2FcrossSelling_Bought%2BTogether_GRID_productCard_cc_2_NA_view-all&cid=RAMFUAHYUSBE7YFA'\n",
    "prod2 = 'https://www.flipkart.com/wd-green-240-gb-all-one-pc-s-desktop-internal-solid-state-drive-wds240g2g0b-00epw0/p/itmf8xhftzgrfcut?pid=IHDF8XHFE4WWZJ3S&lid=LSTIHDF8XHFE4WWZJ3SNWMIVN&marketplace=FLIPKART&q=m2+ssd+240+gb&store=6bo%2Fjdy%2Fdus&srno=s_1_7&otracker=search&otracker1=search&fm=SEARCH&iid=65309101-491a-4216-a892-d299892128ab.IHDF8XHFE4WWZJ3S.SEARCH&ppt=sp&ppn=sp&ssid=ho78x2z0400000001630172680599&qH=f237c8e25cf5bf722'\n"
   ]
  },
  {
   "cell_type": "code",
   "execution_count": null,
   "id": "f988d190",
   "metadata": {},
   "outputs": [],
   "source": [
    "# Connection setup\n",
    "\n",
    "header = {\"User-Agent\": \"Mozilla/5.0 (X11; Linux x86_64) AppleWebKit/537.36 (KHTML, like Gecko) Chrome/92.0.4515.159 Safari/537.36\"}\n",
    "\n",
    "page = requests.get(url=prod_2, headers=header)\n",
    "print(page.status_code) # 200 indicates connection to URL was successful\n",
    "soup1 = BeautifulSoup(page.text, 'html.parser')\n",
    "soup2 = BeautifulSoup(soup1.prettify(), 'html.parser')\n",
    "title = soup2.find('span', class_='B_NuCI').get_text()\n",
    "print(title)\n",
    "    \n",
    "price = soup2.find(class_='_30jeq3 _16Jk6d').get_text()\n",
    "    \n",
    "title = title.strip()\n",
    "price = price.strip()[1:]\n",
    "today = datetime.date.today()\n"
   ]
  },
  {
   "cell_type": "code",
   "execution_count": null,
   "id": "9afe7e6a",
   "metadata": {},
   "outputs": [],
   "source": [
    "# Writing data first time in csv\n",
    "headers = ['Title', 'Price', 'Date']\n",
    "data = [title, price, today]\n",
    "\n",
    "with open('wishlist.csv', 'w', newline='', encoding='UTF8') as f:\n",
    "    writer = csv.writer(f)\n",
    "    writer.writerow(headers)\n",
    "    writer.writerow(data)\n",
    "\n",
    "df = pd.read_csv('wishlist.csv')"
   ]
  },
  {
   "cell_type": "code",
   "execution_count": null,
   "id": "a45a2130",
   "metadata": {},
   "outputs": [],
   "source": [
    "# appending data in csv\n",
    "\n",
    "with open('wishlist.csv', 'a+', newline='', encoding='UTF8') as f:\n",
    "    writer = csv.writer(f)\n",
    "    writer.writerow(data)"
   ]
  },
  {
   "cell_type": "code",
   "execution_count": null,
   "id": "5c3ba264",
   "metadata": {},
   "outputs": [],
   "source": [
    "def send_mail():\n",
    "    server = smtplib.SMTP_SSL('smtp.gmail.com',465)\n",
    "    server.ehlo()\n",
    "    #server.starttls()\n",
    "    server.ehlo()\n",
    "    #enter username and passoword within single quote of your gmail client\n",
    "    server.login('username@gmail.com','*********')\n",
    "    \n",
    "    subject = \"The {} you want is below {}! Now is your chance to buy!\".format(title, price)\n",
    "    body = \"This is the moment we have been waiting for. Now is your chance to pick up the shirt of your dreams. Don't mess it up! Link here:{}\".format(prod_1)\n",
    "   \n",
    "    msg = f\"Subject: {subject}\\n\\n{body}\"\n",
    "    \n",
    "    context = ssl.create_default_context()\n",
    "    with smtplib.SMTP_SSL(smtp_server, port, context=context) as server:   \n",
    "        server.sendmail('sender@gmail.com','receiver@gmail.com',msg)"
   ]
  },
  {
   "cell_type": "code",
   "execution_count": null,
   "id": "e65f9106",
   "metadata": {},
   "outputs": [],
   "source": [
    "def check_price():\n",
    "    prod_1 = 'https://www.flipkart.com/wd-green-240-gb-all-one-pc-s-desktop-internal-solid-state-drive-wds240g2g0b-00epw0/p/itmf8xhftzgrfcut?pid=IHDF8XHFE4WWZJ3S&lid=LSTIHDF8XHFE4WWZJ3SNWMIVN&marketplace=FLIPKART&q=m2+ssd+240+gb&store=6bo%2Fjdy%2Fdus&srno=s_1_7&otracker=search&otracker1=search&fm=SEARCH&iid=65309101-491a-4216-a892-d299892128ab.IHDF8XHFE4WWZJ3S.SEARCH&ppt=sp&ppn=sp&ssid=ho78x2z0400000001630172680599&qH=f237c8e25cf5bf72'\n",
    "    header = {\"User-Agent\": \"Mozilla/5.0 (X11; Linux x86_64) AppleWebKit/537.36 (KHTML, like Gecko) Chrome/92.0.4515.159 Safari/537.36\"}\n",
    "\n",
    "    page = requests.get(url = prod_2, headers = header)\n",
    "    \n",
    "    soup1 = BeautifulSoup(page.text, 'html.parser')\n",
    "    soup2 = BeautifulSoup(soup1.prettify(), 'html.parser')\n",
    "    title = soup2.find('span', class_='B_NuCI').get_text()\n",
    "    price = soup2.find(class_='_30jeq3 _16Jk6d').get_text()\n",
    "\n",
    "    title = title.strip()\n",
    "    price = price.strip()[1:]\n",
    "    today = datetime.date.today()\n",
    "    \n",
    "    headers = ['Title', 'Price', 'Date']\n",
    "    data = [title, price, today]\n",
    "    \n",
    "    with open('wishlist.csv', 'a+', newline='', encoding='UTF8') as f:\n",
    "        writer = csv.writer(f)\n",
    "        writer.writerow(data)\n",
    "    \n",
    "    # if price fall below 2900, then an email will be sent\n",
    "    if(price < 2900):\n",
    "        send_mail()"
   ]
  },
  {
   "cell_type": "code",
   "execution_count": null,
   "id": "70880114",
   "metadata": {},
   "outputs": [],
   "source": [
    "while(True):\n",
    "    check_price()\n",
    "    time.sleep(3600) #time in secs after which task will be executed"
   ]
  }
 ],
 "metadata": {
  "kernelspec": {
   "display_name": "Python 3 (ipykernel)",
   "language": "python",
   "name": "python3"
  },
  "language_info": {
   "codemirror_mode": {
    "name": "ipython",
    "version": 3
   },
   "file_extension": ".py",
   "mimetype": "text/x-python",
   "name": "python",
   "nbconvert_exporter": "python",
   "pygments_lexer": "ipython3",
   "version": "3.8.10"
  }
 },
 "nbformat": 4,
 "nbformat_minor": 5
}
